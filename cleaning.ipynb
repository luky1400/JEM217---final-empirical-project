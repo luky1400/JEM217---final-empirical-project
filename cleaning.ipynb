{
 "cells": [
  {
   "cell_type": "code",
   "execution_count": 23,
   "metadata": {},
   "outputs": [],
   "source": [
    "import pandas as pd\n",
    "import matplotlib.pyplot as plt\n",
    "import sqlite3\n",
    "import numpy as np\n",
    "import math\n",
    "\n",
    "pd.options.display.max_columns=100"
   ]
  },
  {
   "cell_type": "code",
   "execution_count": 24,
   "metadata": {},
   "outputs": [],
   "source": [
    "path_to_sqlite='estate_data.sqlite'\n",
    "con = sqlite3.connect(path_to_sqlite)"
   ]
  },
  {
   "cell_type": "code",
   "execution_count": 25,
   "metadata": {},
   "outputs": [
    {
     "name": "stdout",
     "output_type": "stream",
     "text": [
      "Tables in our database:\n",
      "\n",
      "['OFFERS_HOUSES_SALE', 'DESCRIPTION_HOUSES_SALE']\n"
     ]
    }
   ],
   "source": [
    "print(\"Tables in our database:\\n\")\n",
    "cursor = con.cursor()\n",
    "# Getting all tables from sqlite_master\n",
    "sql_query = \"\"\"SELECT name FROM sqlite_master WHERE type='table';\"\"\"\n",
    "cursor.execute(sql_query)\n",
    "sqlite_tables = cursor.fetchall()\n",
    "sqlite_tables = [*map(lambda table: table[0] ,sqlite_tables)]\n",
    "print(sqlite_tables)\n",
    "del sqlite_tables\n",
    "del sql_query"
   ]
  },
  {
   "cell_type": "code",
   "execution_count": 26,
   "metadata": {},
   "outputs": [
    {
     "data": {
      "text/plain": [
       "((4856, 14), (4853, 36))"
      ]
     },
     "execution_count": 26,
     "metadata": {},
     "output_type": "execute_result"
    }
   ],
   "source": [
    "df_description = pd.read_sql('SELECT * FROM DESCRIPTION_HOUSES_SALE', con = con)\n",
    "df_offers = pd.read_sql('SELECT * FROM OFFERS_HOUSES_SALE', con = con)\n",
    "df_offers.shape, df_description.shape"
   ]
  },
  {
   "cell_type": "code",
   "execution_count": 27,
   "metadata": {},
   "outputs": [],
   "source": [
    "# Closing the connection\n",
    "con.close()"
   ]
  },
  {
   "cell_type": "code",
   "execution_count": 28,
   "metadata": {},
   "outputs": [
    {
     "data": {
      "text/html": [
       "<div>\n",
       "<style scoped>\n",
       "    .dataframe tbody tr th:only-of-type {\n",
       "        vertical-align: middle;\n",
       "    }\n",
       "\n",
       "    .dataframe tbody tr th {\n",
       "        vertical-align: top;\n",
       "    }\n",
       "\n",
       "    .dataframe thead th {\n",
       "        text-align: right;\n",
       "    }\n",
       "</style>\n",
       "<table border=\"1\" class=\"dataframe\">\n",
       "  <thead>\n",
       "    <tr style=\"text-align: right;\">\n",
       "      <th></th>\n",
       "      <th>hash_id</th>\n",
       "      <th>price</th>\n",
       "      <th>price_czk</th>\n",
       "      <th>price_czk_unit</th>\n",
       "      <th>price_czk_name</th>\n",
       "      <th>land_area</th>\n",
       "      <th>lat</th>\n",
       "      <th>lon</th>\n",
       "      <th>locality</th>\n",
       "      <th>category_main</th>\n",
       "      <th>category_sub</th>\n",
       "      <th>category_type</th>\n",
       "      <th>date_download</th>\n",
       "      <th>locality_region_id</th>\n",
       "    </tr>\n",
       "  </thead>\n",
       "  <tbody>\n",
       "    <tr>\n",
       "      <th>0</th>\n",
       "      <td>2698797404</td>\n",
       "      <td>5299000</td>\n",
       "      <td>5299000</td>\n",
       "      <td></td>\n",
       "      <td>Celková cena</td>\n",
       "      <td>1</td>\n",
       "      <td>50.083549</td>\n",
       "      <td>14.434141</td>\n",
       "      <td>Praha</td>\n",
       "      <td>2</td>\n",
       "      <td>40</td>\n",
       "      <td>1</td>\n",
       "      <td>2024-02-02</td>\n",
       "      <td>10</td>\n",
       "    </tr>\n",
       "    <tr>\n",
       "      <th>1</th>\n",
       "      <td>3981059148</td>\n",
       "      <td>14595304</td>\n",
       "      <td>14595304</td>\n",
       "      <td></td>\n",
       "      <td>Celková cena</td>\n",
       "      <td>157</td>\n",
       "      <td>50.147034</td>\n",
       "      <td>14.473924</td>\n",
       "      <td>U spojů, Praha 8 - Ďáblice</td>\n",
       "      <td>2</td>\n",
       "      <td>37</td>\n",
       "      <td>1</td>\n",
       "      <td>2024-02-02</td>\n",
       "      <td>10</td>\n",
       "    </tr>\n",
       "    <tr>\n",
       "      <th>2</th>\n",
       "      <td>2171561036</td>\n",
       "      <td>54980000</td>\n",
       "      <td>54980000</td>\n",
       "      <td></td>\n",
       "      <td>Celková cena</td>\n",
       "      <td>856</td>\n",
       "      <td>50.107578</td>\n",
       "      <td>14.352712</td>\n",
       "      <td>V Trníčku, Praha 6 - Dejvice</td>\n",
       "      <td>2</td>\n",
       "      <td>37</td>\n",
       "      <td>1</td>\n",
       "      <td>2024-02-02</td>\n",
       "      <td>10</td>\n",
       "    </tr>\n",
       "    <tr>\n",
       "      <th>3</th>\n",
       "      <td>2357572940</td>\n",
       "      <td>19600000</td>\n",
       "      <td>19600000</td>\n",
       "      <td></td>\n",
       "      <td>Celková cena</td>\n",
       "      <td>961</td>\n",
       "      <td>50.023621</td>\n",
       "      <td>14.443550</td>\n",
       "      <td>Na Větrově, Praha 4 - Lhotka</td>\n",
       "      <td>2</td>\n",
       "      <td>54</td>\n",
       "      <td>1</td>\n",
       "      <td>2024-02-02</td>\n",
       "      <td>10</td>\n",
       "    </tr>\n",
       "    <tr>\n",
       "      <th>4</th>\n",
       "      <td>1286899020</td>\n",
       "      <td>23400000</td>\n",
       "      <td>23400000</td>\n",
       "      <td></td>\n",
       "      <td>Celková cena</td>\n",
       "      <td>354</td>\n",
       "      <td>50.138809</td>\n",
       "      <td>14.546665</td>\n",
       "      <td>Praha 9 - Kbely</td>\n",
       "      <td>2</td>\n",
       "      <td>37</td>\n",
       "      <td>1</td>\n",
       "      <td>2024-02-02</td>\n",
       "      <td>10</td>\n",
       "    </tr>\n",
       "    <tr>\n",
       "      <th>...</th>\n",
       "      <td>...</td>\n",
       "      <td>...</td>\n",
       "      <td>...</td>\n",
       "      <td>...</td>\n",
       "      <td>...</td>\n",
       "      <td>...</td>\n",
       "      <td>...</td>\n",
       "      <td>...</td>\n",
       "      <td>...</td>\n",
       "      <td>...</td>\n",
       "      <td>...</td>\n",
       "      <td>...</td>\n",
       "      <td>...</td>\n",
       "      <td>...</td>\n",
       "    </tr>\n",
       "    <tr>\n",
       "      <th>4851</th>\n",
       "      <td>2860658268</td>\n",
       "      <td>5857977</td>\n",
       "      <td>5857977</td>\n",
       "      <td></td>\n",
       "      <td>Celková cena</td>\n",
       "      <td>0</td>\n",
       "      <td>50.100857</td>\n",
       "      <td>13.650740</td>\n",
       "      <td>Trnková, Senomaty</td>\n",
       "      <td>2</td>\n",
       "      <td>37</td>\n",
       "      <td>1</td>\n",
       "      <td>2024-02-02</td>\n",
       "      <td>11</td>\n",
       "    </tr>\n",
       "    <tr>\n",
       "      <th>4852</th>\n",
       "      <td>751513180</td>\n",
       "      <td>19800000</td>\n",
       "      <td>19800000</td>\n",
       "      <td></td>\n",
       "      <td>Celková cena</td>\n",
       "      <td>0</td>\n",
       "      <td>49.893295</td>\n",
       "      <td>14.327883</td>\n",
       "      <td>Líšnice, okres Praha-západ</td>\n",
       "      <td>2</td>\n",
       "      <td>37</td>\n",
       "      <td>1</td>\n",
       "      <td>2024-02-02</td>\n",
       "      <td>11</td>\n",
       "    </tr>\n",
       "    <tr>\n",
       "      <th>4853</th>\n",
       "      <td>586794316</td>\n",
       "      <td>5199000</td>\n",
       "      <td>5199000</td>\n",
       "      <td></td>\n",
       "      <td>Celková cena</td>\n",
       "      <td>0</td>\n",
       "      <td>49.948387</td>\n",
       "      <td>15.268164</td>\n",
       "      <td>Kutná Hora, okres Kutná Hora</td>\n",
       "      <td>2</td>\n",
       "      <td>40</td>\n",
       "      <td>1</td>\n",
       "      <td>2024-02-02</td>\n",
       "      <td>11</td>\n",
       "    </tr>\n",
       "    <tr>\n",
       "      <th>4854</th>\n",
       "      <td>1408877900</td>\n",
       "      <td>5299000</td>\n",
       "      <td>5299000</td>\n",
       "      <td></td>\n",
       "      <td>Celková cena</td>\n",
       "      <td>0</td>\n",
       "      <td>50.411350</td>\n",
       "      <td>14.903184</td>\n",
       "      <td>Mladá Boleslav, okres Mladá Boleslav</td>\n",
       "      <td>2</td>\n",
       "      <td>40</td>\n",
       "      <td>1</td>\n",
       "      <td>2024-02-02</td>\n",
       "      <td>11</td>\n",
       "    </tr>\n",
       "    <tr>\n",
       "      <th>4855</th>\n",
       "      <td>1116107100</td>\n",
       "      <td>1</td>\n",
       "      <td>1</td>\n",
       "      <td></td>\n",
       "      <td>Celková cena</td>\n",
       "      <td>0</td>\n",
       "      <td>50.185310</td>\n",
       "      <td>14.458713</td>\n",
       "      <td>Sedlec, okres Praha-východ</td>\n",
       "      <td>2</td>\n",
       "      <td>37</td>\n",
       "      <td>1</td>\n",
       "      <td>2024-02-02</td>\n",
       "      <td>11</td>\n",
       "    </tr>\n",
       "  </tbody>\n",
       "</table>\n",
       "<p>4856 rows × 14 columns</p>\n",
       "</div>"
      ],
      "text/plain": [
       "         hash_id     price  price_czk price_czk_unit price_czk_name  \\\n",
       "0     2698797404   5299000    5299000                  Celková cena   \n",
       "1     3981059148  14595304   14595304                  Celková cena   \n",
       "2     2171561036  54980000   54980000                  Celková cena   \n",
       "3     2357572940  19600000   19600000                  Celková cena   \n",
       "4     1286899020  23400000   23400000                  Celková cena   \n",
       "...          ...       ...        ...            ...            ...   \n",
       "4851  2860658268   5857977    5857977                  Celková cena   \n",
       "4852   751513180  19800000   19800000                  Celková cena   \n",
       "4853   586794316   5199000    5199000                  Celková cena   \n",
       "4854  1408877900   5299000    5299000                  Celková cena   \n",
       "4855  1116107100         1          1                  Celková cena   \n",
       "\n",
       "      land_area        lat        lon                              locality  \\\n",
       "0             1  50.083549  14.434141                                 Praha   \n",
       "1           157  50.147034  14.473924            U spojů, Praha 8 - Ďáblice   \n",
       "2           856  50.107578  14.352712          V Trníčku, Praha 6 - Dejvice   \n",
       "3           961  50.023621  14.443550          Na Větrově, Praha 4 - Lhotka   \n",
       "4           354  50.138809  14.546665                       Praha 9 - Kbely   \n",
       "...         ...        ...        ...                                   ...   \n",
       "4851          0  50.100857  13.650740                     Trnková, Senomaty   \n",
       "4852          0  49.893295  14.327883            Líšnice, okres Praha-západ   \n",
       "4853          0  49.948387  15.268164          Kutná Hora, okres Kutná Hora   \n",
       "4854          0  50.411350  14.903184  Mladá Boleslav, okres Mladá Boleslav   \n",
       "4855          0  50.185310  14.458713            Sedlec, okres Praha-východ   \n",
       "\n",
       "      category_main  category_sub  category_type date_download  \\\n",
       "0                 2            40              1    2024-02-02   \n",
       "1                 2            37              1    2024-02-02   \n",
       "2                 2            37              1    2024-02-02   \n",
       "3                 2            54              1    2024-02-02   \n",
       "4                 2            37              1    2024-02-02   \n",
       "...             ...           ...            ...           ...   \n",
       "4851              2            37              1    2024-02-02   \n",
       "4852              2            37              1    2024-02-02   \n",
       "4853              2            40              1    2024-02-02   \n",
       "4854              2            40              1    2024-02-02   \n",
       "4855              2            37              1    2024-02-02   \n",
       "\n",
       "      locality_region_id  \n",
       "0                     10  \n",
       "1                     10  \n",
       "2                     10  \n",
       "3                     10  \n",
       "4                     10  \n",
       "...                  ...  \n",
       "4851                  11  \n",
       "4852                  11  \n",
       "4853                  11  \n",
       "4854                  11  \n",
       "4855                  11  \n",
       "\n",
       "[4856 rows x 14 columns]"
      ]
     },
     "execution_count": 28,
     "metadata": {},
     "output_type": "execute_result"
    }
   ],
   "source": [
    "df_offers"
   ]
  },
  {
   "cell_type": "code",
   "execution_count": 29,
   "metadata": {},
   "outputs": [],
   "source": [
    "df_offers.drop([\"price_czk\", \"price_czk_unit\", \"price_czk_name\", \"date_download\", \"category_type\", \"category_main\"], axis=1, inplace= True)"
   ]
  },
  {
   "cell_type": "code",
   "execution_count": 30,
   "metadata": {},
   "outputs": [
    {
     "data": {
      "text/html": [
       "<div>\n",
       "<style scoped>\n",
       "    .dataframe tbody tr th:only-of-type {\n",
       "        vertical-align: middle;\n",
       "    }\n",
       "\n",
       "    .dataframe tbody tr th {\n",
       "        vertical-align: top;\n",
       "    }\n",
       "\n",
       "    .dataframe thead th {\n",
       "        text-align: right;\n",
       "    }\n",
       "</style>\n",
       "<table border=\"1\" class=\"dataframe\">\n",
       "  <thead>\n",
       "    <tr style=\"text-align: right;\">\n",
       "      <th></th>\n",
       "      <th>hash_id</th>\n",
       "      <th>price</th>\n",
       "      <th>land_area</th>\n",
       "      <th>lat</th>\n",
       "      <th>lon</th>\n",
       "      <th>locality</th>\n",
       "      <th>category_sub</th>\n",
       "      <th>locality_region_id</th>\n",
       "    </tr>\n",
       "  </thead>\n",
       "  <tbody>\n",
       "    <tr>\n",
       "      <th>0</th>\n",
       "      <td>2698797404</td>\n",
       "      <td>5299000</td>\n",
       "      <td>1</td>\n",
       "      <td>50.083549</td>\n",
       "      <td>14.434141</td>\n",
       "      <td>Praha</td>\n",
       "      <td>40</td>\n",
       "      <td>10</td>\n",
       "    </tr>\n",
       "    <tr>\n",
       "      <th>1</th>\n",
       "      <td>3981059148</td>\n",
       "      <td>14595304</td>\n",
       "      <td>157</td>\n",
       "      <td>50.147034</td>\n",
       "      <td>14.473924</td>\n",
       "      <td>U spojů, Praha 8 - Ďáblice</td>\n",
       "      <td>37</td>\n",
       "      <td>10</td>\n",
       "    </tr>\n",
       "    <tr>\n",
       "      <th>2</th>\n",
       "      <td>2171561036</td>\n",
       "      <td>54980000</td>\n",
       "      <td>856</td>\n",
       "      <td>50.107578</td>\n",
       "      <td>14.352712</td>\n",
       "      <td>V Trníčku, Praha 6 - Dejvice</td>\n",
       "      <td>37</td>\n",
       "      <td>10</td>\n",
       "    </tr>\n",
       "    <tr>\n",
       "      <th>3</th>\n",
       "      <td>2357572940</td>\n",
       "      <td>19600000</td>\n",
       "      <td>961</td>\n",
       "      <td>50.023621</td>\n",
       "      <td>14.443550</td>\n",
       "      <td>Na Větrově, Praha 4 - Lhotka</td>\n",
       "      <td>54</td>\n",
       "      <td>10</td>\n",
       "    </tr>\n",
       "    <tr>\n",
       "      <th>4</th>\n",
       "      <td>1286899020</td>\n",
       "      <td>23400000</td>\n",
       "      <td>354</td>\n",
       "      <td>50.138809</td>\n",
       "      <td>14.546665</td>\n",
       "      <td>Praha 9 - Kbely</td>\n",
       "      <td>37</td>\n",
       "      <td>10</td>\n",
       "    </tr>\n",
       "    <tr>\n",
       "      <th>...</th>\n",
       "      <td>...</td>\n",
       "      <td>...</td>\n",
       "      <td>...</td>\n",
       "      <td>...</td>\n",
       "      <td>...</td>\n",
       "      <td>...</td>\n",
       "      <td>...</td>\n",
       "      <td>...</td>\n",
       "    </tr>\n",
       "    <tr>\n",
       "      <th>4851</th>\n",
       "      <td>2860658268</td>\n",
       "      <td>5857977</td>\n",
       "      <td>0</td>\n",
       "      <td>50.100857</td>\n",
       "      <td>13.650740</td>\n",
       "      <td>Trnková, Senomaty</td>\n",
       "      <td>37</td>\n",
       "      <td>11</td>\n",
       "    </tr>\n",
       "    <tr>\n",
       "      <th>4852</th>\n",
       "      <td>751513180</td>\n",
       "      <td>19800000</td>\n",
       "      <td>0</td>\n",
       "      <td>49.893295</td>\n",
       "      <td>14.327883</td>\n",
       "      <td>Líšnice, okres Praha-západ</td>\n",
       "      <td>37</td>\n",
       "      <td>11</td>\n",
       "    </tr>\n",
       "    <tr>\n",
       "      <th>4853</th>\n",
       "      <td>586794316</td>\n",
       "      <td>5199000</td>\n",
       "      <td>0</td>\n",
       "      <td>49.948387</td>\n",
       "      <td>15.268164</td>\n",
       "      <td>Kutná Hora, okres Kutná Hora</td>\n",
       "      <td>40</td>\n",
       "      <td>11</td>\n",
       "    </tr>\n",
       "    <tr>\n",
       "      <th>4854</th>\n",
       "      <td>1408877900</td>\n",
       "      <td>5299000</td>\n",
       "      <td>0</td>\n",
       "      <td>50.411350</td>\n",
       "      <td>14.903184</td>\n",
       "      <td>Mladá Boleslav, okres Mladá Boleslav</td>\n",
       "      <td>40</td>\n",
       "      <td>11</td>\n",
       "    </tr>\n",
       "    <tr>\n",
       "      <th>4855</th>\n",
       "      <td>1116107100</td>\n",
       "      <td>1</td>\n",
       "      <td>0</td>\n",
       "      <td>50.185310</td>\n",
       "      <td>14.458713</td>\n",
       "      <td>Sedlec, okres Praha-východ</td>\n",
       "      <td>37</td>\n",
       "      <td>11</td>\n",
       "    </tr>\n",
       "  </tbody>\n",
       "</table>\n",
       "<p>4856 rows × 8 columns</p>\n",
       "</div>"
      ],
      "text/plain": [
       "         hash_id     price  land_area        lat        lon  \\\n",
       "0     2698797404   5299000          1  50.083549  14.434141   \n",
       "1     3981059148  14595304        157  50.147034  14.473924   \n",
       "2     2171561036  54980000        856  50.107578  14.352712   \n",
       "3     2357572940  19600000        961  50.023621  14.443550   \n",
       "4     1286899020  23400000        354  50.138809  14.546665   \n",
       "...          ...       ...        ...        ...        ...   \n",
       "4851  2860658268   5857977          0  50.100857  13.650740   \n",
       "4852   751513180  19800000          0  49.893295  14.327883   \n",
       "4853   586794316   5199000          0  49.948387  15.268164   \n",
       "4854  1408877900   5299000          0  50.411350  14.903184   \n",
       "4855  1116107100         1          0  50.185310  14.458713   \n",
       "\n",
       "                                  locality  category_sub  locality_region_id  \n",
       "0                                    Praha            40                  10  \n",
       "1               U spojů, Praha 8 - Ďáblice            37                  10  \n",
       "2             V Trníčku, Praha 6 - Dejvice            37                  10  \n",
       "3             Na Větrově, Praha 4 - Lhotka            54                  10  \n",
       "4                          Praha 9 - Kbely            37                  10  \n",
       "...                                    ...           ...                 ...  \n",
       "4851                     Trnková, Senomaty            37                  11  \n",
       "4852            Líšnice, okres Praha-západ            37                  11  \n",
       "4853          Kutná Hora, okres Kutná Hora            40                  11  \n",
       "4854  Mladá Boleslav, okres Mladá Boleslav            40                  11  \n",
       "4855            Sedlec, okres Praha-východ            37                  11  \n",
       "\n",
       "[4856 rows x 8 columns]"
      ]
     },
     "execution_count": 30,
     "metadata": {},
     "output_type": "execute_result"
    }
   ],
   "source": [
    "df_offers"
   ]
  },
  {
   "cell_type": "markdown",
   "metadata": {},
   "source": [
    "## Details"
   ]
  },
  {
   "cell_type": "markdown",
   "metadata": {},
   "source": [
    "Cleaning:"
   ]
  },
  {
   "cell_type": "code",
   "execution_count": 31,
   "metadata": {},
   "outputs": [
    {
     "data": {
      "text/plain": [
       "Index(['hash_id', 'description', 'Vlak', 'Večerka', 'Obchod', 'Bus MHD',\n",
       "       'Škola', 'Školka', 'Lékař', 'Hospoda', 'Restaurace', 'Metro', 'Tram',\n",
       "       'price_original', 'date_update', 'building_type', 'building_condition',\n",
       "       'building_location', 'area_net', 'price_total', 'price_note',\n",
       "       'area_build_up', 'date_building_approval', 'equipped',\n",
       "       'energy_efficient_rating', 'building_floor_type', 'building_floor',\n",
       "       'date_year_reconstruction', 'area_garden', 'garage', 'swimming_pool',\n",
       "       'area_landplot', 'ownership', 'cellar', 'house_location', 'pool area'],\n",
       "      dtype='object')"
      ]
     },
     "execution_count": 31,
     "metadata": {},
     "output_type": "execute_result"
    }
   ],
   "source": [
    "df_description.columns"
   ]
  },
  {
   "cell_type": "code",
   "execution_count": 32,
   "metadata": {},
   "outputs": [],
   "source": [
    "df_description.drop([\"date_year_reconstruction\", \"date_building_approval\", \"price_original\"], axis=1, inplace= True)"
   ]
  },
  {
   "cell_type": "code",
   "execution_count": 33,
   "metadata": {},
   "outputs": [
    {
     "data": {
      "text/plain": [
       "energy_efficient_rating\n",
       "G    2319\n",
       "B     889\n",
       "C     448\n",
       "D     196\n",
       "A     172\n",
       "E      58\n",
       "F      53\n",
       "Name: count, dtype: int64"
      ]
     },
     "execution_count": 33,
     "metadata": {},
     "output_type": "execute_result"
    }
   ],
   "source": [
    "# 'energy_efficient_rating'\n",
    "def transformer(value):\n",
    "    if value != None:\n",
    "        return value.split()[1]\n",
    "df_description['energy_efficient_rating'] = df_description['energy_efficient_rating'].apply(lambda row: transformer(row))\n",
    "df_description['energy_efficient_rating'].value_counts()"
   ]
  },
  {
   "cell_type": "code",
   "execution_count": 34,
   "metadata": {},
   "outputs": [],
   "source": [
    "columns_to_transform = [\"price_total\"]\n",
    "for col in columns_to_transform:\n",
    "    # 1.\n",
    "    df_description[col].replace(np.nan, \"None\", inplace=True)\n",
    "    # 2.\n",
    "    df_description[col] = df_description[col].apply(lambda x: x.replace(\"\\xa0\", \"\"))\n",
    "    # 3.\n",
    "    df_description[col].replace(\"None\", np.nan, inplace=True)\n",
    "\n",
    "del columns_to_transform\n",
    "\n",
    "settings = {\"hash_id\" : np.int64,\n",
    "                \"area_net\" : np.float64,\n",
    "                \"price_total\" : np.float64,\n",
    "                \"area_build_up\" : np.float64,\n",
    "                \"area_garden\" : np.float64,\n",
    "                \"Lékař\" : np.float64,\n",
    "                \"Tram\" : np.float64,\n",
    "                \"Metro\": np.float64,\n",
    "                \"Vlak\" : np.float64,\n",
    "                \"Obchod\": np.float64,\n",
    "                \"pool area\": np.float64\n",
    "    }\n",
    "\n",
    "df_description = df_description.astype(settings)\n",
    "del settings"
   ]
  },
  {
   "cell_type": "code",
   "execution_count": 35,
   "metadata": {},
   "outputs": [
    {
     "data": {
      "text/plain": [
       "hash_id                      int64\n",
       "description                 object\n",
       "Vlak                       float64\n",
       "Večerka                    float64\n",
       "Obchod                     float64\n",
       "Bus MHD                    float64\n",
       "Škola                      float64\n",
       "Školka                     float64\n",
       "Lékař                      float64\n",
       "Hospoda                    float64\n",
       "Restaurace                 float64\n",
       "Metro                      float64\n",
       "Tram                       float64\n",
       "date_update                 object\n",
       "building_type               object\n",
       "building_condition          object\n",
       "building_location           object\n",
       "area_net                   float64\n",
       "price_total                float64\n",
       "price_note                  object\n",
       "area_build_up              float64\n",
       "equipped                    object\n",
       "energy_efficient_rating     object\n",
       "building_floor_type         object\n",
       "building_floor              object\n",
       "area_garden                float64\n",
       "garage                      object\n",
       "swimming_pool              float64\n",
       "area_landplot               object\n",
       "ownership                   object\n",
       "cellar                      object\n",
       "house_location              object\n",
       "pool area                  float64\n",
       "dtype: object"
      ]
     },
     "execution_count": 35,
     "metadata": {},
     "output_type": "execute_result"
    }
   ],
   "source": [
    "df_description.dtypes"
   ]
  },
  {
   "cell_type": "code",
   "execution_count": 36,
   "metadata": {},
   "outputs": [
    {
     "data": {
      "text/plain": [
       "(4853, 40)"
      ]
     },
     "execution_count": 36,
     "metadata": {},
     "output_type": "execute_result"
    }
   ],
   "source": [
    "# Join\n",
    "df = df_description.merge(df_offers, on = \"hash_id\", how = \"inner\")\n",
    "df.shape"
   ]
  },
  {
   "cell_type": "code",
   "execution_count": 37,
   "metadata": {},
   "outputs": [],
   "source": [
    "df.rename(columns={'locality_region_id': 'region',\n",
    "                   \"Večerka\": \"Vecerka\",\n",
    "                   \"Škola\": \"Skola\",\n",
    "                   \"Školka\": \"Skolka\",\n",
    "                   \"Lékař\" : \"Lekar\",\n",
    "                   \"Bus MHD\": \"Bus\"\n",
    "                    },\n",
    "          inplace = True)"
   ]
  },
  {
   "cell_type": "code",
   "execution_count": 38,
   "metadata": {},
   "outputs": [],
   "source": [
    "df.drop([\"description\"], axis=1, inplace= True)"
   ]
  },
  {
   "cell_type": "markdown",
   "metadata": {},
   "source": [
    "Adding distance to center:"
   ]
  },
  {
   "cell_type": "code",
   "execution_count": 39,
   "metadata": {},
   "outputs": [],
   "source": [
    "df[\"lat_cen\"] = 50.0875000\n",
    "df[\"lon_cen\"] = 14.4213889"
   ]
  },
  {
   "cell_type": "code",
   "execution_count": 40,
   "metadata": {},
   "outputs": [],
   "source": [
    "def haversine_distance(row):\n",
    "    # Convert latitude and longitude from degrees to radians\n",
    "    lat1, lon1, lat2, lon2 = map(math.radians, [row['lat_cen'], row['lon_cen'], row['lat'], row['lon']])\n",
    "\n",
    "    # Haversine formula\n",
    "    dlat = lat2 - lat1\n",
    "    dlon = lon2 - lon1\n",
    "\n",
    "    a = math.sin(dlat / 2) ** 2 + math.cos(lat1) * math.cos(lat2) * math.sin(dlon / 2) ** 2\n",
    "    c = 2 * math.atan2(math.sqrt(a), math.sqrt(1 - a))\n",
    "\n",
    "    # Radius of the Earth in kilometers\n",
    "    R = 6371\n",
    "\n",
    "    # Calculate the distance\n",
    "    distance = R * c\n",
    "\n",
    "    return distance\n",
    "\n",
    "df[\"city_dist\"] = df.apply(haversine_distance, axis=1)"
   ]
  },
  {
   "cell_type": "code",
   "execution_count": 41,
   "metadata": {},
   "outputs": [
    {
     "data": {
      "text/plain": [
       "count    4853.000000\n",
       "mean       30.718110\n",
       "std        17.968444\n",
       "min         0.911700\n",
       "25%        16.433052\n",
       "50%        27.021978\n",
       "75%        43.752624\n",
       "max        80.747033\n",
       "Name: city_dist, dtype: float64"
      ]
     },
     "execution_count": 41,
     "metadata": {},
     "output_type": "execute_result"
    }
   ],
   "source": [
    "df.city_dist.describe()"
   ]
  },
  {
   "cell_type": "code",
   "execution_count": 42,
   "metadata": {},
   "outputs": [
    {
     "data": {
      "text/plain": [
       "<Axes: >"
      ]
     },
     "execution_count": 42,
     "metadata": {},
     "output_type": "execute_result"
    },
    {
     "data": {
      "image/png": "[encoded data removed]",
      "text/plain": [
       "<Figure size 640x480 with 1 Axes>"
      ]
     },
     "metadata": {},
     "output_type": "display_data"
    }
   ],
   "source": [
    "df.city_dist.hist()"
   ]
  },
  {
   "cell_type": "code",
   "execution_count": 43,
   "metadata": {},
   "outputs": [
    {
     "ename": "KeyError",
     "evalue": "\"['Unnamed: 0'] not found in axis\"",
     "output_type": "error",
     "traceback": [
      "\u001b[1;31m---------------------------------------------------------------------------\u001b[0m",
      "\u001b[1;31mKeyError\u001b[0m                                  Traceback (most recent call last)",
      "Cell \u001b[1;32mIn[43], line 3\u001b[0m\n\u001b[0;32m      1\u001b[0m df \u001b[38;5;241m=\u001b[39m df[df[\u001b[38;5;124m\"\u001b[39m\u001b[38;5;124mprice\u001b[39m\u001b[38;5;124m\"\u001b[39m] \u001b[38;5;241m!=\u001b[39m \u001b[38;5;241m1\u001b[39m]\n\u001b[0;32m      2\u001b[0m df \u001b[38;5;241m=\u001b[39m df[df[\u001b[38;5;124m\"\u001b[39m\u001b[38;5;124mcategory_sub\u001b[39m\u001b[38;5;124m\"\u001b[39m] \u001b[38;5;241m==\u001b[39m \u001b[38;5;241m37\u001b[39m]\n\u001b[1;32m----> 3\u001b[0m \u001b[43mdf\u001b[49m\u001b[38;5;241;43m.\u001b[39;49m\u001b[43mdrop\u001b[49m\u001b[43m(\u001b[49m\u001b[43m[\u001b[49m\u001b[38;5;124;43m\"\u001b[39;49m\u001b[38;5;124;43mprice_total\u001b[39;49m\u001b[38;5;124;43m\"\u001b[39;49m\u001b[43m,\u001b[49m\u001b[43m \u001b[49m\u001b[38;5;124;43m\"\u001b[39;49m\u001b[38;5;124;43mUnnamed: 0\u001b[39;49m\u001b[38;5;124;43m\"\u001b[39;49m\u001b[43m,\u001b[49m\u001b[43m \u001b[49m\u001b[38;5;124;43m\"\u001b[39;49m\u001b[38;5;124;43mcategory_sub\u001b[39;49m\u001b[38;5;124;43m\"\u001b[39;49m\u001b[43m,\u001b[49m\u001b[43m \u001b[49m\u001b[38;5;124;43m\"\u001b[39;49m\u001b[38;5;124;43mownership\u001b[39;49m\u001b[38;5;124;43m\"\u001b[39;49m\u001b[43m,\u001b[49m\u001b[43m \u001b[49m\u001b[38;5;124;43m\"\u001b[39;49m\u001b[38;5;124;43mpool area\u001b[39;49m\u001b[38;5;124;43m\"\u001b[39;49m\u001b[43m,\u001b[49m\u001b[43m \u001b[49m\u001b[38;5;124;43m\"\u001b[39;49m\u001b[38;5;124;43mequipped\u001b[39;49m\u001b[38;5;124;43m\"\u001b[39;49m\u001b[43m,\u001b[49m\u001b[43m \u001b[49m\u001b[38;5;124;43m\"\u001b[39;49m\u001b[38;5;124;43mland_area\u001b[39;49m\u001b[38;5;124;43m\"\u001b[39;49m\u001b[43m,\u001b[49m\u001b[43m \u001b[49m\u001b[38;5;124;43m\"\u001b[39;49m\u001b[38;5;124;43marea_build_up\u001b[39;49m\u001b[38;5;124;43m\"\u001b[39;49m\u001b[43m,\u001b[49m\u001b[43m \u001b[49m\u001b[38;5;124;43m\"\u001b[39;49m\u001b[38;5;124;43marea_garden\u001b[39;49m\u001b[38;5;124;43m\"\u001b[39;49m\u001b[43m]\u001b[49m\u001b[43m,\u001b[49m\u001b[43m \u001b[49m\u001b[43maxis\u001b[49m\u001b[38;5;241;43m=\u001b[39;49m\u001b[38;5;241;43m1\u001b[39;49m\u001b[43m,\u001b[49m\u001b[43m \u001b[49m\u001b[43minplace\u001b[49m\u001b[38;5;241;43m=\u001b[39;49m\u001b[43m \u001b[49m\u001b[38;5;28;43;01mTrue\u001b[39;49;00m\u001b[43m)\u001b[49m \n\u001b[0;32m      4\u001b[0m df\u001b[38;5;241m.\u001b[39mloc[(df\u001b[38;5;241m.\u001b[39marea_landplot \u001b[38;5;241m<\u001b[39m df\u001b[38;5;241m.\u001b[39marea_net) \u001b[38;5;241m&\u001b[39m (df\u001b[38;5;241m.\u001b[39mbuilding_floor\u001b[38;5;241m.\u001b[39misna()), \u001b[38;5;124m\"\u001b[39m\u001b[38;5;124marea_landplot\u001b[39m\u001b[38;5;124m\"\u001b[39m] \u001b[38;5;241m=\u001b[39m df\u001b[38;5;241m.\u001b[39mloc[(df\u001b[38;5;241m.\u001b[39marea_landplot \u001b[38;5;241m<\u001b[39m df\u001b[38;5;241m.\u001b[39marea_net) \u001b[38;5;241m&\u001b[39m (df\u001b[38;5;241m.\u001b[39mbuilding_floor\u001b[38;5;241m.\u001b[39misna()), \u001b[38;5;124m\"\u001b[39m\u001b[38;5;124marea_landplot\u001b[39m\u001b[38;5;124m\"\u001b[39m] \u001b[38;5;241m+\u001b[39m df\u001b[38;5;241m.\u001b[39mloc[(df\u001b[38;5;241m.\u001b[39marea_landplot \u001b[38;5;241m<\u001b[39m df\u001b[38;5;241m.\u001b[39marea_net) \u001b[38;5;241m&\u001b[39m (df\u001b[38;5;241m.\u001b[39mbuilding_floor\u001b[38;5;241m.\u001b[39misna()), \u001b[38;5;124m\"\u001b[39m\u001b[38;5;124marea_net\u001b[39m\u001b[38;5;124m\"\u001b[39m]\n",
      "File \u001b[1;32m~\\AppData\\Roaming\\Python\\Python39\\site-packages\\pandas\\core\\frame.py:5347\u001b[0m, in \u001b[0;36mDataFrame.drop\u001b[1;34m(self, labels, axis, index, columns, level, inplace, errors)\u001b[0m\n\u001b[0;32m   5199\u001b[0m \u001b[38;5;28;01mdef\u001b[39;00m \u001b[38;5;21mdrop\u001b[39m(\n\u001b[0;32m   5200\u001b[0m     \u001b[38;5;28mself\u001b[39m,\n\u001b[0;32m   5201\u001b[0m     labels: IndexLabel \u001b[38;5;241m|\u001b[39m \u001b[38;5;28;01mNone\u001b[39;00m \u001b[38;5;241m=\u001b[39m \u001b[38;5;28;01mNone\u001b[39;00m,\n\u001b[1;32m   (...)\u001b[0m\n\u001b[0;32m   5208\u001b[0m     errors: IgnoreRaise \u001b[38;5;241m=\u001b[39m \u001b[38;5;124m\"\u001b[39m\u001b[38;5;124mraise\u001b[39m\u001b[38;5;124m\"\u001b[39m,\n\u001b[0;32m   5209\u001b[0m ) \u001b[38;5;241m-\u001b[39m\u001b[38;5;241m>\u001b[39m DataFrame \u001b[38;5;241m|\u001b[39m \u001b[38;5;28;01mNone\u001b[39;00m:\n\u001b[0;32m   5210\u001b[0m \u001b[38;5;250m    \u001b[39m\u001b[38;5;124;03m\"\"\"\u001b[39;00m\n\u001b[0;32m   5211\u001b[0m \u001b[38;5;124;03m    Drop specified labels from rows or columns.\u001b[39;00m\n\u001b[0;32m   5212\u001b[0m \n\u001b[1;32m   (...)\u001b[0m\n\u001b[0;32m   5345\u001b[0m \u001b[38;5;124;03m            weight  1.0     0.8\u001b[39;00m\n\u001b[0;32m   5346\u001b[0m \u001b[38;5;124;03m    \"\"\"\u001b[39;00m\n\u001b[1;32m-> 5347\u001b[0m     \u001b[38;5;28;01mreturn\u001b[39;00m \u001b[38;5;28;43msuper\u001b[39;49m\u001b[43m(\u001b[49m\u001b[43m)\u001b[49m\u001b[38;5;241;43m.\u001b[39;49m\u001b[43mdrop\u001b[49m\u001b[43m(\u001b[49m\n\u001b[0;32m   5348\u001b[0m \u001b[43m        \u001b[49m\u001b[43mlabels\u001b[49m\u001b[38;5;241;43m=\u001b[39;49m\u001b[43mlabels\u001b[49m\u001b[43m,\u001b[49m\n\u001b[0;32m   5349\u001b[0m \u001b[43m        \u001b[49m\u001b[43maxis\u001b[49m\u001b[38;5;241;43m=\u001b[39;49m\u001b[43maxis\u001b[49m\u001b[43m,\u001b[49m\n\u001b[0;32m   5350\u001b[0m \u001b[43m        \u001b[49m\u001b[43mindex\u001b[49m\u001b[38;5;241;43m=\u001b[39;49m\u001b[43mindex\u001b[49m\u001b[43m,\u001b[49m\n\u001b[0;32m   5351\u001b[0m \u001b[43m        \u001b[49m\u001b[43mcolumns\u001b[49m\u001b[38;5;241;43m=\u001b[39;49m\u001b[43mcolumns\u001b[49m\u001b[43m,\u001b[49m\n\u001b[0;32m   5352\u001b[0m \u001b[43m        \u001b[49m\u001b[43mlevel\u001b[49m\u001b[38;5;241;43m=\u001b[39;49m\u001b[43mlevel\u001b[49m\u001b[43m,\u001b[49m\n\u001b[0;32m   5353\u001b[0m \u001b[43m        \u001b[49m\u001b[43minplace\u001b[49m\u001b[38;5;241;43m=\u001b[39;49m\u001b[43minplace\u001b[49m\u001b[43m,\u001b[49m\n\u001b[0;32m   5354\u001b[0m \u001b[43m        \u001b[49m\u001b[43merrors\u001b[49m\u001b[38;5;241;43m=\u001b[39;49m\u001b[43merrors\u001b[49m\u001b[43m,\u001b[49m\n\u001b[0;32m   5355\u001b[0m \u001b[43m    \u001b[49m\u001b[43m)\u001b[49m\n",
      "File \u001b[1;32m~\\AppData\\Roaming\\Python\\Python39\\site-packages\\pandas\\core\\generic.py:4711\u001b[0m, in \u001b[0;36mNDFrame.drop\u001b[1;34m(self, labels, axis, index, columns, level, inplace, errors)\u001b[0m\n\u001b[0;32m   4709\u001b[0m \u001b[38;5;28;01mfor\u001b[39;00m axis, labels \u001b[38;5;129;01min\u001b[39;00m axes\u001b[38;5;241m.\u001b[39mitems():\n\u001b[0;32m   4710\u001b[0m     \u001b[38;5;28;01mif\u001b[39;00m labels \u001b[38;5;129;01mis\u001b[39;00m \u001b[38;5;129;01mnot\u001b[39;00m \u001b[38;5;28;01mNone\u001b[39;00m:\n\u001b[1;32m-> 4711\u001b[0m         obj \u001b[38;5;241m=\u001b[39m \u001b[43mobj\u001b[49m\u001b[38;5;241;43m.\u001b[39;49m\u001b[43m_drop_axis\u001b[49m\u001b[43m(\u001b[49m\u001b[43mlabels\u001b[49m\u001b[43m,\u001b[49m\u001b[43m \u001b[49m\u001b[43maxis\u001b[49m\u001b[43m,\u001b[49m\u001b[43m \u001b[49m\u001b[43mlevel\u001b[49m\u001b[38;5;241;43m=\u001b[39;49m\u001b[43mlevel\u001b[49m\u001b[43m,\u001b[49m\u001b[43m \u001b[49m\u001b[43merrors\u001b[49m\u001b[38;5;241;43m=\u001b[39;49m\u001b[43merrors\u001b[49m\u001b[43m)\u001b[49m\n\u001b[0;32m   4713\u001b[0m \u001b[38;5;28;01mif\u001b[39;00m inplace:\n\u001b[0;32m   4714\u001b[0m     \u001b[38;5;28mself\u001b[39m\u001b[38;5;241m.\u001b[39m_update_inplace(obj)\n",
      "File \u001b[1;32m~\\AppData\\Roaming\\Python\\Python39\\site-packages\\pandas\\core\\generic.py:4753\u001b[0m, in \u001b[0;36mNDFrame._drop_axis\u001b[1;34m(self, labels, axis, level, errors, only_slice)\u001b[0m\n\u001b[0;32m   4751\u001b[0m         new_axis \u001b[38;5;241m=\u001b[39m axis\u001b[38;5;241m.\u001b[39mdrop(labels, level\u001b[38;5;241m=\u001b[39mlevel, errors\u001b[38;5;241m=\u001b[39merrors)\n\u001b[0;32m   4752\u001b[0m     \u001b[38;5;28;01melse\u001b[39;00m:\n\u001b[1;32m-> 4753\u001b[0m         new_axis \u001b[38;5;241m=\u001b[39m \u001b[43maxis\u001b[49m\u001b[38;5;241;43m.\u001b[39;49m\u001b[43mdrop\u001b[49m\u001b[43m(\u001b[49m\u001b[43mlabels\u001b[49m\u001b[43m,\u001b[49m\u001b[43m \u001b[49m\u001b[43merrors\u001b[49m\u001b[38;5;241;43m=\u001b[39;49m\u001b[43merrors\u001b[49m\u001b[43m)\u001b[49m\n\u001b[0;32m   4754\u001b[0m     indexer \u001b[38;5;241m=\u001b[39m axis\u001b[38;5;241m.\u001b[39mget_indexer(new_axis)\n\u001b[0;32m   4756\u001b[0m \u001b[38;5;66;03m# Case for non-unique axis\u001b[39;00m\n\u001b[0;32m   4757\u001b[0m \u001b[38;5;28;01melse\u001b[39;00m:\n",
      "File \u001b[1;32m~\\AppData\\Roaming\\Python\\Python39\\site-packages\\pandas\\core\\indexes\\base.py:6992\u001b[0m, in \u001b[0;36mIndex.drop\u001b[1;34m(self, labels, errors)\u001b[0m\n\u001b[0;32m   6990\u001b[0m \u001b[38;5;28;01mif\u001b[39;00m mask\u001b[38;5;241m.\u001b[39many():\n\u001b[0;32m   6991\u001b[0m     \u001b[38;5;28;01mif\u001b[39;00m errors \u001b[38;5;241m!=\u001b[39m \u001b[38;5;124m\"\u001b[39m\u001b[38;5;124mignore\u001b[39m\u001b[38;5;124m\"\u001b[39m:\n\u001b[1;32m-> 6992\u001b[0m         \u001b[38;5;28;01mraise\u001b[39;00m \u001b[38;5;167;01mKeyError\u001b[39;00m(\u001b[38;5;124mf\u001b[39m\u001b[38;5;124m\"\u001b[39m\u001b[38;5;132;01m{\u001b[39;00mlabels[mask]\u001b[38;5;241m.\u001b[39mtolist()\u001b[38;5;132;01m}\u001b[39;00m\u001b[38;5;124m not found in axis\u001b[39m\u001b[38;5;124m\"\u001b[39m)\n\u001b[0;32m   6993\u001b[0m     indexer \u001b[38;5;241m=\u001b[39m indexer[\u001b[38;5;241m~\u001b[39mmask]\n\u001b[0;32m   6994\u001b[0m \u001b[38;5;28;01mreturn\u001b[39;00m \u001b[38;5;28mself\u001b[39m\u001b[38;5;241m.\u001b[39mdelete(indexer)\n",
      "\u001b[1;31mKeyError\u001b[0m: \"['Unnamed: 0'] not found in axis\""
     ]
    }
   ],
   "source": [
    "df = df[df[\"price\"] != 1]\n",
    "df = df[df[\"category_sub\"] == 37]\n",
    "df.drop([\"price_total\", \"category_sub\", \"ownership\", \"pool area\", \"equipped\", \"land_area\", \"area_build_up\", \"area_garden\"], axis=1, inplace= True) \n",
    "df.loc[(df.area_landplot < df.area_net) & (df.building_floor.isna()), \"area_landplot\"] = df.loc[(df.area_landplot < df.area_net) & (df.building_floor.isna()), \"area_landplot\"] + df.loc[(df.area_landplot < df.area_net) & (df.building_floor.isna()), \"area_net\"]"
   ]
  },
  {
   "cell_type": "code",
   "execution_count": null,
   "metadata": {},
   "outputs": [],
   "source": [
    "df.describe()"
   ]
  },
  {
   "cell_type": "markdown",
   "metadata": {},
   "source": [
    "## Saving:"
   ]
  },
  {
   "cell_type": "code",
   "execution_count": null,
   "metadata": {},
   "outputs": [],
   "source": [
    "# SQLlite:\n",
    "\n",
    "# path_to_sqlite='estate_data.sqlite'\n",
    "# con = sqlite3.connect(path_to_sqlite)\n",
    "\n",
    "# df.to_sql(name = \"FINAL_TABLE\", con= con, index = False, if_exists = 'append')\n",
    "\n",
    "# con.close()"
   ]
  },
  {
   "cell_type": "code",
   "execution_count": null,
   "metadata": {},
   "outputs": [],
   "source": [
    "# # Delete table:\n",
    "\n",
    "\n",
    "# path_to_sqlite='estate_data.sqlite'\n",
    "# con = sqlite3.connect(path_to_sqlite)\n",
    "\n",
    "# # Create a cursor object to execute SQL queries\n",
    "# cursor = con.cursor()\n",
    "\n",
    "# # Specify the table name you want to delete\n",
    "# table_name = \"FINAL_TABLE\"\n",
    "\n",
    "# # Construct and execute the SQL query to delete the table\n",
    "# query = f\"DROP TABLE IF EXISTS {table_name};\"\n",
    "# cursor.execute(query)\n",
    "\n",
    "# # Commit the changes\n",
    "# con.commit()\n",
    "\n",
    "# # Close the cursor and connection\n",
    "# cursor.close()\n",
    "# con.close()"
   ]
  },
  {
   "cell_type": "code",
   "execution_count": null,
   "metadata": {},
   "outputs": [],
   "source": [
    "# CSV:\n",
    "\n",
    "df.to_csv(\"data.csv\")"
   ]
  },
  {
   "cell_type": "code",
   "execution_count": null,
   "metadata": {},
   "outputs": [],
   "source": [
    "# Excel:\n",
    "\n",
    "excel_file_path = 'output.xlsx'\n",
    "df.to_excel(excel_file_path, index=False)"
   ]
  }
 ],
 "metadata": {
  "kernelspec": {
   "display_name": "base",
   "language": "python",
   "name": "python3"
  },
  "language_info": {
   "codemirror_mode": {
    "name": "ipython",
    "version": 3
   },
   "file_extension": ".py",
   "mimetype": "text/x-python",
   "name": "python",
   "nbconvert_exporter": "python",
   "pygments_lexer": "ipython3",
   "version": "3.9.18"
  }
 },
 "nbformat": 4,
 "nbformat_minor": 2
}
